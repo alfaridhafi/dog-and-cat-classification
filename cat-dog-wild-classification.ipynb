{
 "cells": [
  {
   "cell_type": "code",
   "execution_count": 3,
   "id": "7536271a",
   "metadata": {},
   "outputs": [],
   "source": [
    "import os\n",
    "data_dir = 'afhq'"
   ]
  },
  {
   "cell_type": "code",
   "execution_count": 4,
   "id": "458fc5e6",
   "metadata": {},
   "outputs": [],
   "source": [
    "cat_data = os.path.join(data_dir, 'cat')\n",
    "dog_data = os.path.join(data_dir, 'dog')\n",
    "wild_data = os.path.join(data_dir, 'wild')"
   ]
  },
  {
   "cell_type": "code",
   "execution_count": 7,
   "id": "7c173b40",
   "metadata": {},
   "outputs": [],
   "source": [
    "train_dir = os.path.join(data_dir, 'train')\n",
    "validation_dir = os.path.join(data_dir, 'valid')\n",
    "\n",
    "# os.mkdir(train_dir)\n",
    "# os.mkdir(validation_dir)"
   ]
  },
  {
   "cell_type": "code",
   "execution_count": 17,
   "id": "24de6017",
   "metadata": {},
   "outputs": [],
   "source": [
    "cat_train = os.path.join(train_dir, 'cat')\n",
    "dog_train = os.path.join(train_dir, 'dog')\n",
    "wild_train = os.path.join(train_dir, 'wild')\n",
    "\n",
    "\n",
    "cat_valid = os.path.join(validation_dir, 'cat')\n",
    "dog_valid = os.path.join(validation_dir, 'dog')\n",
    "wild_valid = os.path.join(validation_dir, 'wild')"
   ]
  },
  {
   "cell_type": "code",
   "execution_count": 18,
   "id": "c52c8613",
   "metadata": {},
   "outputs": [],
   "source": [
    "from sklearn.model_selection import train_test_split\n",
    "\n",
    "latih_cat, val_cat = train_test_split(os.listdir(cat_data), test_size=0.20)\n",
    "latih_dog, val_dog = train_test_split(os.listdir(dog_data), test_size=0.20)\n",
    "latih_wild, val_wild = train_test_split(os.listdir(wild_data), test_size=0.20)"
   ]
  },
  {
   "cell_type": "code",
   "execution_count": 19,
   "id": "b43bf42a",
   "metadata": {},
   "outputs": [],
   "source": [
    "# import shutil\n",
    "\n",
    "# for file in latih_cat:\n",
    "#   shutil.copy(os.path.join(cat_data, file), os.path.join(cat_train, file))\n",
    "# for file in latih_dog:\n",
    "#   shutil.copy(os.path.join(dog_data, file), os.path.join(dog_train, file))\n",
    "# for file in latih_wild:\n",
    "#   shutil.copy(os.path.join(wild_data, file), os.path.join(wild_train, file))\n",
    "\n",
    "# for file in val_cat:\n",
    "#   shutil.copy(os.path.join(cat_data, file), os.path.join(cat_valid, file))\n",
    "# for file in val_dog:\n",
    "#   shutil.copy(os.path.join(dog_data, file), os.path.join(dog_valid, file))\n",
    "# for file in val_wild:\n",
    "#   shutil.copy(os.path.join(wild_data, file), os.path.join(wild_valid, file))"
   ]
  },
  {
   "cell_type": "code",
   "execution_count": 25,
   "id": "b9d78709",
   "metadata": {},
   "outputs": [
    {
     "name": "stdout",
     "output_type": "stream",
     "text": [
      "Found 1200 images belonging to 3 classes.\n",
      "Found 300 images belonging to 3 classes.\n"
     ]
    }
   ],
   "source": [
    "from tensorflow.keras.preprocessing.image import ImageDataGenerator\n",
    "\n",
    "train_datagen = ImageDataGenerator(validation_split=0.2,\n",
    "                                   rescale=1/.255\n",
    "                                  )\n",
    "\n",
    "train_generator = train_datagen.flow_from_directory(train_dir,\n",
    "                                                    target_size=(224, 224),\n",
    "                                                    batch_size=32,\n",
    "                                                    class_mode = \"categorical\")\n",
    "valid_generator = train_datagen.flow_from_directory(validation_dir,\n",
    "                                                    target_size=(224, 224),\n",
    "                                                    batch_size=32,\n",
    "                                                    class_mode = \"categorical\")"
   ]
  },
  {
   "cell_type": "code",
   "execution_count": 27,
   "id": "120b1dbb",
   "metadata": {},
   "outputs": [],
   "source": [
    "import tensorflow as tf\n",
    "from tensorflow.python.keras.models import Sequential\n",
    "from tensorflow.python.keras.layers import Dense, Flatten, GlobalAveragePooling2D, Conv2D, MaxPooling2D,BatchNormalization"
   ]
  },
  {
   "cell_type": "code",
   "execution_count": 47,
   "id": "cb7821d9",
   "metadata": {},
   "outputs": [],
   "source": [
    "class myCallback(tf.keras.callbacks.Callback):\n",
    "    def on_epoch_end(self, epoch, logs={}):\n",
    "        if(logs.get('accuracy')>0.8 and logs.get('val_accuracy')>0.8):\n",
    "            print(\"\\nAkurasi telah mencapai >80%!\")\n",
    "            self.model.stop_training = True\n",
    "callbacks = myCallback()"
   ]
  },
  {
   "cell_type": "code",
   "execution_count": 48,
   "id": "a132ecc8",
   "metadata": {},
   "outputs": [],
   "source": [
    "model = tf.keras.models.Sequential([\n",
    "        tf.keras.layers.Conv2D(112, kernel_size = (3,3), activation='relu', input_shape=(224, 224, 3)),\n",
    "        tf.keras.layers.MaxPooling2D(2, 2),\n",
    "        tf.keras.layers.Conv2D(72, kernel_size = (3,3), activation='relu'),\n",
    "        tf.keras.layers.MaxPooling2D(2,2),\n",
    "        tf.keras.layers.Conv2D(64, kernel_size = (3,3), activation='relu'),\n",
    "        tf.keras.layers.BatchNormalization(),\n",
    "        tf.keras.layers.MaxPooling2D(2,2),\n",
    "        tf.keras.layers.Conv2D(32, kernel_size = (3,3), activation='relu'),\n",
    "        tf.keras.layers.BatchNormalization(),\n",
    "        tf.keras.layers.MaxPooling2D(2,2),\n",
    "        tf.keras.layers.Conv2D(16, kernel_size = (3,3), activation='relu'),\n",
    "        tf.keras.layers.MaxPooling2D(2,2),\n",
    "        tf.keras.layers.Flatten(),\n",
    "        tf.keras.layers.Dense(4096, activation='relu'),\n",
    "        tf.keras.layers.Dropout(0.5),\n",
    "        tf.keras.layers.Dense(128, activation='relu'),\n",
    "        tf.keras.layers.Dense(3, activation= 'softmax')\n",
    "])\n"
   ]
  },
  {
   "cell_type": "code",
   "execution_count": 49,
   "id": "0edd2f15",
   "metadata": {},
   "outputs": [
    {
     "name": "stdout",
     "output_type": "stream",
     "text": [
      "Model: \"sequential_3\"\n",
      "_________________________________________________________________\n",
      "Layer (type)                 Output Shape              Param #   \n",
      "=================================================================\n",
      "conv2d_16 (Conv2D)           (None, 222, 222, 112)     3136      \n",
      "_________________________________________________________________\n",
      "max_pooling2d_16 (MaxPooling (None, 111, 111, 112)     0         \n",
      "_________________________________________________________________\n",
      "conv2d_17 (Conv2D)           (None, 109, 109, 72)      72648     \n",
      "_________________________________________________________________\n",
      "max_pooling2d_17 (MaxPooling (None, 54, 54, 72)        0         \n",
      "_________________________________________________________________\n",
      "conv2d_18 (Conv2D)           (None, 52, 52, 64)        41536     \n",
      "_________________________________________________________________\n",
      "batch_normalization_6 (Batch (None, 52, 52, 64)        256       \n",
      "_________________________________________________________________\n",
      "max_pooling2d_18 (MaxPooling (None, 26, 26, 64)        0         \n",
      "_________________________________________________________________\n",
      "conv2d_19 (Conv2D)           (None, 24, 24, 32)        18464     \n",
      "_________________________________________________________________\n",
      "batch_normalization_7 (Batch (None, 24, 24, 32)        128       \n",
      "_________________________________________________________________\n",
      "max_pooling2d_19 (MaxPooling (None, 12, 12, 32)        0         \n",
      "_________________________________________________________________\n",
      "conv2d_20 (Conv2D)           (None, 10, 10, 16)        4624      \n",
      "_________________________________________________________________\n",
      "max_pooling2d_20 (MaxPooling (None, 5, 5, 16)          0         \n",
      "_________________________________________________________________\n",
      "flatten_3 (Flatten)          (None, 400)               0         \n",
      "_________________________________________________________________\n",
      "dense_11 (Dense)             (None, 4096)              1642496   \n",
      "_________________________________________________________________\n",
      "dropout_5 (Dropout)          (None, 4096)              0         \n",
      "_________________________________________________________________\n",
      "dense_12 (Dense)             (None, 128)               524416    \n",
      "_________________________________________________________________\n",
      "dense_13 (Dense)             (None, 3)                 387       \n",
      "=================================================================\n",
      "Total params: 2,308,091\n",
      "Trainable params: 2,307,899\n",
      "Non-trainable params: 192\n",
      "_________________________________________________________________\n"
     ]
    }
   ],
   "source": [
    "model.summary()"
   ]
  },
  {
   "cell_type": "code",
   "execution_count": 50,
   "id": "9b8fc185",
   "metadata": {},
   "outputs": [],
   "source": [
    "optimizer = tf.optimizers.RMSprop(learning_rate = 0.00001)\n",
    "model.compile(\n",
    "    loss='categorical_crossentropy',\n",
    "    optimizer=optimizer,\n",
    "    metrics=['accuracy']\n",
    ")"
   ]
  },
  {
   "cell_type": "code",
   "execution_count": 51,
   "id": "97c1c723",
   "metadata": {},
   "outputs": [
    {
     "name": "stdout",
     "output_type": "stream",
     "text": [
      "Epoch 1/25\n",
      "38/38 [==============================] - 165s 4s/step - loss: 1.2546 - accuracy: 0.3558 - val_loss: 1.2744 - val_accuracy: 0.3633\n",
      "Epoch 2/25\n",
      "38/38 [==============================] - 159s 4s/step - loss: 1.1179 - accuracy: 0.4425 - val_loss: 1.1485 - val_accuracy: 0.3867\n",
      "Epoch 3/25\n",
      "38/38 [==============================] - 160s 4s/step - loss: 1.0294 - accuracy: 0.5108 - val_loss: 1.0782 - val_accuracy: 0.4267\n",
      "Epoch 4/25\n",
      "38/38 [==============================] - 159s 4s/step - loss: 0.9453 - accuracy: 0.5500 - val_loss: 0.9650 - val_accuracy: 0.5033\n",
      "Epoch 5/25\n",
      "38/38 [==============================] - 165s 4s/step - loss: 0.9065 - accuracy: 0.5742 - val_loss: 0.8885 - val_accuracy: 0.5767\n",
      "Epoch 6/25\n",
      "38/38 [==============================] - 156s 4s/step - loss: 0.8314 - accuracy: 0.6475 - val_loss: 0.8788 - val_accuracy: 0.5800\n",
      "Epoch 7/25\n",
      "38/38 [==============================] - 156s 4s/step - loss: 0.7875 - accuracy: 0.6542 - val_loss: 0.7668 - val_accuracy: 0.6733\n",
      "Epoch 8/25\n",
      "38/38 [==============================] - 155s 4s/step - loss: 0.7221 - accuracy: 0.6942 - val_loss: 0.7232 - val_accuracy: 0.7067\n",
      "Epoch 9/25\n",
      "38/38 [==============================] - 156s 4s/step - loss: 0.6753 - accuracy: 0.7242 - val_loss: 0.6793 - val_accuracy: 0.7400\n",
      "Epoch 10/25\n",
      "38/38 [==============================] - 160s 4s/step - loss: 0.6470 - accuracy: 0.7467 - val_loss: 0.6558 - val_accuracy: 0.7367\n",
      "Epoch 11/25\n",
      "38/38 [==============================] - 160s 4s/step - loss: 0.6031 - accuracy: 0.7567 - val_loss: 0.6242 - val_accuracy: 0.7600\n",
      "Epoch 12/25\n",
      "38/38 [==============================] - 160s 4s/step - loss: 0.5652 - accuracy: 0.7933 - val_loss: 0.6185 - val_accuracy: 0.7800\n",
      "Epoch 13/25\n",
      "38/38 [==============================] - 163s 4s/step - loss: 0.5539 - accuracy: 0.7792 - val_loss: 0.5899 - val_accuracy: 0.7733\n",
      "Epoch 14/25\n",
      "38/38 [==============================] - 123s 3s/step - loss: 0.5184 - accuracy: 0.7950 - val_loss: 0.5627 - val_accuracy: 0.7967\n",
      "Epoch 15/25\n",
      "38/38 [==============================] - 131s 3s/step - loss: 0.4924 - accuracy: 0.8125 - val_loss: 0.5464 - val_accuracy: 0.7933\n",
      "Epoch 16/25\n",
      "38/38 [==============================] - 126s 3s/step - loss: 0.4627 - accuracy: 0.8242 - val_loss: 0.5225 - val_accuracy: 0.8167\n",
      "\n",
      "Akurasi telah mencapai >80%!\n"
     ]
    }
   ],
   "source": [
    "history = model.fit(\n",
    "    train_generator,\n",
    "    epochs = 25,\n",
    "    validation_data = valid_generator,\n",
    "    callbacks = [callbacks]\n",
    ")"
   ]
  },
  {
   "cell_type": "code",
   "execution_count": 56,
   "id": "f31f7db4",
   "metadata": {},
   "outputs": [
    {
     "data": {
      "image/png": "[encoded data removed]",
      "text/plain": [
       "<Figure size 432x288 with 1 Axes>"
      ]
     },
     "metadata": {
      "needs_background": "light"
     },
     "output_type": "display_data"
    },
    {
     "data": {
      "text/plain": [
       "<Figure size 432x288 with 0 Axes>"
      ]
     },
     "metadata": {},
     "output_type": "display_data"
    },
    {
     "data": {
      "image/png": "[encoded data removed]",
      "text/plain": [
       "<Figure size 432x288 with 1 Axes>"
      ]
     },
     "metadata": {
      "needs_background": "light"
     },
     "output_type": "display_data"
    },
    {
     "data": {
      "text/plain": [
       "<Figure size 432x288 with 0 Axes>"
      ]
     },
     "metadata": {},
     "output_type": "display_data"
    }
   ],
   "source": [
    "import matplotlib.pyplot as plt\n",
    "\n",
    "akurasi = history.history['accuracy']\n",
    "validation = history.history['val_accuracy']\n",
    "loss = history.history['loss']\n",
    "validation_loss = history.history['val_loss']\n",
    "\n",
    "epochs = range(len(acc))\n",
    "\n",
    "plt.plot(epochs, akurasi, 'r', label='Train')\n",
    "plt.plot(epochs, validation, 'b', label='Validation')\n",
    "plt.title('Model Akurasi')\n",
    "plt.legend(loc=0)\n",
    "plt.figure()\n",
    "\n",
    "plt.show()\n",
    "\n",
    "plt.plot(epochs, loss, 'r', label='Loss')\n",
    "plt.plot(epochs, validation_loss, 'b', label='Validation Loss')\n",
    "plt.title('Model Loss')\n",
    "plt.legend(loc=0)\n",
    "plt.figure()\n",
    "\n",
    "plt.show()"
   ]
  },
  {
   "cell_type": "code",
   "execution_count": 59,
   "id": "0b6beed2",
   "metadata": {},
   "outputs": [
    {
     "name": "stdout",
     "output_type": "stream",
     "text": [
      "INFO:tensorflow:Assets written to: C:\\Users\\ASUS-K~1\\AppData\\Local\\Temp\\tmp0o5jtkvw\\assets\n"
     ]
    },
    {
     "name": "stderr",
     "output_type": "stream",
     "text": [
      "INFO:tensorflow:Assets written to: C:\\Users\\ASUS-K~1\\AppData\\Local\\Temp\\tmp0o5jtkvw\\assets\n"
     ]
    }
   ],
   "source": [
    "converter = tf.lite.TFLiteConverter.from_keras_model(model)\n",
    "\n",
    "tflite = converter.convert()"
   ]
  },
  {
   "cell_type": "code",
   "execution_count": 58,
   "id": "a91cb3f6",
   "metadata": {},
   "outputs": [],
   "source": [
    "with tf.io.gfile.GFile('dogcatwild.tflite', 'wb') as f:\n",
    "  f.write(tflite)"
   ]
  },
  {
   "cell_type": "code",
   "execution_count": null,
   "id": "927ce5b4",
   "metadata": {},
   "outputs": [],
   "source": [
    "Nama : Muhammad Dhafi Alfaridzi\n",
    "SIB_ID = M315x0844\n",
    "SIB_group = M07"
   ]
  }
 ],
 "metadata": {
  "kernelspec": {
   "display_name": "Python 3 (ipykernel)",
   "language": "python",
   "name": "python3"
  },
  "language_info": {
   "codemirror_mode": {
    "name": "ipython",
    "version": 3
   },
   "file_extension": ".py",
   "mimetype": "text/x-python",
   "name": "python",
   "nbconvert_exporter": "python",
   "pygments_lexer": "ipython3",
   "version": "3.8.0"
  }
 },
 "nbformat": 4,
 "nbformat_minor": 5
}
